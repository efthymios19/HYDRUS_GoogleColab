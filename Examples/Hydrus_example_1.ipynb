{
  "nbformat": 4,
  "nbformat_minor": 0,
  "metadata": {
    "colab": {
      "provenance": [],
      "authorship_tag": "ABX9TyNjoJ5kaJn3JKf5/WdyEbSP",
      "include_colab_link": true
    },
    "kernelspec": {
      "name": "python3",
      "display_name": "Python 3"
    },
    "language_info": {
      "name": "python"
    }
  },
  "cells": [
    {
      "cell_type": "markdown",
      "metadata": {
        "id": "view-in-github",
        "colab_type": "text"
      },
      "source": [
        "<a href=\"https://colab.research.google.com/github/efthymios19/HYDRUS_GoogleColab/blob/main/Examples/Hydrus_example_1.ipynb\" target=\"_parent\"><img src=\"https://colab.research.google.com/assets/colab-badge.svg\" alt=\"Open In Colab\"/></a>"
      ]
    },
    {
      "cell_type": "code",
      "source": [
        "# Step 1: Install Fortran compiler\n",
        "!apt-get update -qq\n",
        "!apt-get install -y gfortran make\n",
        "\n",
        "# Step 2: Clone the HYDRUS Fortran source code repository\n",
        "!rm -rf /content/source_code\n",
        "!git clone https://github.com/phydrus/source_code.git\n",
        "%cd /content/source_code/source\n",
        "\n",
        "# Step 3: Compile HYDRUS using gfortran\n",
        "!gfortran -O2 -o hydrus HYDRUS.FOR INPUT.FOR HYSTER.FOR MATERIAL.FOR OUTPUT.FOR SINK.FOR SOLUTE.FOR TEMPER.FOR TIME.FOR WATFLOW.FOR\n",
        "\n",
        "# Step 4: Verify the executable was created\n",
        "!ls -l hydrus\n",
        "!file hydrus\n"
      ],
      "metadata": {
        "id": "K-aQ0npjkAQ9"
      },
      "execution_count": null,
      "outputs": []
    },
    {
      "cell_type": "markdown",
      "source": [
        "### Παράδειγμα 1 HYDRUS"
      ],
      "metadata": {
        "id": "ogsdG1mu_aBz"
      }
    },
    {
      "cell_type": "code",
      "source": [
        "!rm -rf /content/HYDRUS_GoogleColab\n",
        "# Clone the repository\n",
        "!git clone https://github.com/efthymios19/HYDRUS_GoogleColab.git\n",
        "\n",
        "# Make the hydrus file executable\n",
        "!chmod +x /content/HYDRUS_GoogleColab/bin/hydrus_1\n",
        "\n",
        "# To avoid some Google Colab unconvenients\n",
        "import warnings\n",
        "warnings.filterwarnings('ignore', category=DeprecationWarning)\n",
        "\n"
      ],
      "metadata": {
        "id": "91G-3Ft9ASYT"
      },
      "execution_count": null,
      "outputs": []
    },
    {
      "cell_type": "code",
      "source": [
        "!pip install phydrus"
      ],
      "metadata": {
        "id": "RIzHtDbNNE9a"
      },
      "execution_count": null,
      "outputs": []
    },
    {
      "cell_type": "code",
      "source": [
        "import phydrus as ps\n",
        "%matplotlib inline"
      ],
      "metadata": {
        "id": "kTJ9jTaNM-q_"
      },
      "execution_count": null,
      "outputs": []
    },
    {
      "cell_type": "markdown",
      "source": [
        "**Πηγές τεκμηρίωσης**\n",
        "\n",
        "https://phydrus.readthedocs.io/en/latest/index.html\n",
        "\n",
        "https://www.pc-progress.com/Downloads/Pgm_hydrus1D/HYDRUS1D-4.17.pdf\n",
        "\n",
        "https://www.pc-progress.com/en/Default.aspx?hydrus-1d\n",
        "\n",
        "![εικόνα.png](data:image/png;base64,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)"
      ],
      "metadata": {
        "id": "S_BT6uxc_xsC"
      }
    },
    {
      "cell_type": "code",
      "source": [
        "# Folder for Hydrus files to be stored\n",
        "ws = '/content/HYDRUS_GoogleColab/modelFiles' #use particular names\n",
        "exe = '/content/HYDRUS_GoogleColab/bin/hydrus_1'\n",
        "\n",
        "# Περιγραφή\n",
        "desc = \"Infiltration of Water into a Single-Layered Soil Profile\"\n",
        "\n",
        "# Δημιουργία του μοντέλου\n",
        "ml = ps.Model(exe_name=exe, ws_name=ws, name=\"model\", description=desc, mass_units=\"mmol\",\n",
        "              time_unit=\"days\", length_unit=\"cm\")\n",
        "\n",
        "ml.basic_info[\"lFlux\"] = True # Αν θέλουμε ο κώδικας να τυπώσει τις ροές για κάθε στοιχείο παρατήρησης (True)\n",
        "\n",
        "ml.basic_info[\"lShort\"] = False # Οι πληροφορίες τυπώνονται για κάθε χρονικό βήμα (False)\n",
        "\n",
        "ml.add_time_info(tmax=1, print_times=True, nsteps=12, dt=0.001)\n",
        "\n",
        "# tmax (int, optional) – Τελικός χρόνος της προσομοίωσης [T].\n",
        "# nsteps (str, optional) – Ο αριθμός των χρονικών βημάτων για την χρονική περίοδο προσομοίωσης.\n",
        "# dt (float, optional) – Η αρχική προσαύξηση χρόνου [T]. Για προβλήματα με υψηλές πιέσεις (π.χ. διήθηση σε αρχικά ξηρό εδαφικό μεσό)\n",
        "# το dt πρέπει να είναι αρκετά μικρό."
      ],
      "metadata": {
        "id": "Ww12F6t5_d8g"
      },
      "execution_count": null,
      "outputs": []
    },
    {
      "cell_type": "code",
      "source": [
        "ml.add_waterflow(model=0, top_bc=0, bot_bc=4) # model (int, optional) – Παραμετρικό μοντέλο: 0 = van Genuchten\"s [1980] model with 6 parameters\n",
        "                                     # top_bc (int, optional) – Οριακή συνθήκη στο ανώτερο τμήμα της στήλης: 0 = Constant Pressure Head\n",
        "                                     # bot_bc (int, optional) – Οριακή συνθήκη στο κατώτερο τμήμα της στήλης: 4 = Free Drainage\n",
        "\n",
        "m = ml.get_empty_material_df(n=1) # παίρνετε μια άδεια dataframe με τις παραμέτρους της υδραυλικής εξίσωσης\n",
        "\n",
        "# Pandas dataframe .loc (Πρόσβαση σε μία ομάδα γραμμών και στηλών με βάση τον δείκτη)\n",
        "\n",
        "m.loc[[1]] = [[0.078, 0.43, 0.036, 1.56, 24.96, 0.5]] # Κατά σειρά:  θr, θs, α, n, Ks f, l\n",
        "\n",
        "ml.add_material(m) # εισαγωγή των υδραυλικών παραμέτρων στο μοντέλο ml\n",
        "\n"
      ],
      "metadata": {
        "id": "LrMqw5aqRBR3"
      },
      "execution_count": null,
      "outputs": []
    },
    {
      "cell_type": "code",
      "source": [
        "elements = 100  # Διακριτοποίηση της στήλης σε 100 σημεία\n",
        "\n",
        "depth = -100  # Βάθος της εδαφικής στήλης\n",
        "\n",
        "ihead = -100  # Καθορισμός αρχικών συνθηκών πίεσης (τριχοειδές δυναμικό)\n",
        "\n",
        "# Create Profile\n",
        "profile = ps.create_profile(bot=depth, dx=abs(depth / elements), h=ihead) # bot (float or list of float, optional) – Το κατώτερο σημείο της στήλης\n",
        "                                                                          # dx (float, optional) – Το μέγεθος κάθε κελιού του καννάβου\n",
        "                                                                          # h (float, optional) – Αρχικές τιμές του φορτίου πίεσης\n",
        "\n",
        "# Pandas dataframe .iloc (Πρόσβαση σε ένα στοιχείο της dataframe με βάση τη σειρά και την στήλη)\n",
        "\n",
        "profile.iloc[0, 1] = 1  # Προσδιορισμός του φορτίου πίεσης στο άνω μέρος της στήλης (ponded)\n",
        "\n",
        "ml.add_profile(profile)  # Προσθήκη των πληροφοριών profile στο μοντέλο"
      ],
      "metadata": {
        "id": "wbxh9m3-RHB6"
      },
      "execution_count": null,
      "outputs": []
    },
    {
      "cell_type": "code",
      "source": [
        "# Add observation nodes at depth\n",
        "ml.add_obs_nodes([-20, -40, -60, -80, -100])\n",
        "\n"
      ],
      "metadata": {
        "id": "pJEQoJ0nRKBA"
      },
      "execution_count": null,
      "outputs": []
    },
    {
      "cell_type": "code",
      "source": [
        "ml.write_input()\n",
        "\n"
      ],
      "metadata": {
        "id": "PTmy1vjuRM-2"
      },
      "execution_count": null,
      "outputs": []
    },
    {
      "cell_type": "markdown",
      "source": [
        "**SELECTOR.IN**\n",
        "\n",
        "A. Basic Information\n",
        "\n",
        "lWat: True (μεταβαλόμενη ροή)\n",
        "\n",
        "lSink: True (ανάκτηση νερού από το ριζικό σύστημα)\n",
        "\n",
        "lRoot: True (ανάπτυξη του ριζικού συστήματος)\n",
        "\n",
        "B. Water Flow Information\n",
        "\n",
        "\n",
        "\n",
        "C. Time Information\n",
        "\n",
        "D. Root Growth Information\n",
        "\n",
        "E. Heat Transport Information\n",
        "\n",
        "K. Carbon Dioxide Transport Information\n",
        "\n",
        "F. Solute Transport Information\n",
        "\n",
        "L. Major Ion Chemistry Information\n",
        "\n",
        "G. Root Water Uptake Information\n",
        "\n",
        "**PROFILE.DAT**\n",
        "\n",
        "H. Nodal Information"
      ],
      "metadata": {
        "id": "ieupTdRaMVRZ"
      }
    },
    {
      "cell_type": "code",
      "source": [
        "ml.simulate()"
      ],
      "metadata": {
        "id": "Osm8JnreMEKr"
      },
      "execution_count": null,
      "outputs": []
    },
    {
      "cell_type": "markdown",
      "source": [
        "**T_LEVEL.OUT**\n",
        "\n",
        "Φορτία πίεσης και ροές στις οριακές συνθήκες και στην ζώνη ριζοστρώματος.\n",
        "\n",
        "vTop[-] (διήθηση)\n",
        "\n",
        "vBot [-] (έξοδος)\n",
        "\n",
        "\n",
        "**RUN_INF.OUT**\n",
        "\n",
        "Πληροφορίες για την προσομοίωση (χρόνος εκτέλεσης, κ.α.)\n",
        "\n",
        "**OBS_NODE.OUT**\n",
        "\n",
        "Μεταβαλλόμενες τιμές του φορτίου πίεσης, της περιεκτικότητας σε νερό, κ.α στα καθορισμένα στοιχεία παρατήρησης.\n",
        "\n",
        "**NOD_INF.OUT**\n",
        "\n",
        "Οι τιμές του φορτίου πίεσης, της περιεκτικότητας σε νερό, κ.α σε κάθε στοιχείο.\n",
        "\n",
        "*Σημασία στην Υδατοχωρητικότητα*\n",
        "\n",
        "**BALANCE.OUT**\n",
        "\n",
        "Το αρχείο δίνει τη συνολική ποσότητα νερού, θερμότητας και διαλελυμένων ουσιών μέσα σε κάθε υπόρεπεριοχή (επίπεδο).\n",
        "\n",
        "**I_CHECK.OUT**\n",
        "\n",
        "Περιέχει μια πλήρη περιγραφή της χωρικής διακριτοποίησης και των υδραυλικών χαρακτηριστικών του κάθε επιπέδου.\n",
        "\n",
        "**PROFILE.OUT**"
      ],
      "metadata": {
        "id": "-a_2jtvZdj6U"
      }
    },
    {
      "cell_type": "code",
      "source": [
        "ml.plots.obs_points()\n",
        "\n"
      ],
      "metadata": {
        "id": "2PEbvi30go5D"
      },
      "execution_count": null,
      "outputs": []
    },
    {
      "cell_type": "code",
      "source": [
        "ml.plots.profile_information()"
      ],
      "metadata": {
        "id": "GpedR_NNgvk6"
      },
      "execution_count": null,
      "outputs": []
    },
    {
      "cell_type": "code",
      "source": [
        "ml.plots.profile_information(\"Water Content\")\n",
        "\n"
      ],
      "metadata": {
        "id": "xBbVCyK-g_DD"
      },
      "execution_count": null,
      "outputs": []
    },
    {
      "cell_type": "code",
      "source": [
        "ml.plots.water_flow(\"Actual Surface Flux\")\n",
        "\n"
      ],
      "metadata": {
        "id": "6JxI_wWJhEno"
      },
      "execution_count": null,
      "outputs": []
    },
    {
      "cell_type": "code",
      "source": [
        "ml.plots.water_flow(data=\"Bottom Flux\")"
      ],
      "metadata": {
        "id": "stfQVDofl5Cb"
      },
      "execution_count": null,
      "outputs": []
    },
    {
      "cell_type": "code",
      "source": [
        "ml.plots.soil_properties()\n",
        "\n"
      ],
      "metadata": {
        "id": "FdXZbemihTHV"
      },
      "execution_count": null,
      "outputs": []
    },
    {
      "cell_type": "code",
      "source": [
        "ml.plots.soil_properties(data='Hydraulic Conductivity')"
      ],
      "metadata": {
        "id": "SmiT54ytiLwo"
      },
      "execution_count": null,
      "outputs": []
    }
  ]
}